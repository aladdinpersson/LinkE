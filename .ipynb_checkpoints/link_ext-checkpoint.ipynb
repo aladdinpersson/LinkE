{
 "cells": [
  {
   "cell_type": "code",
   "execution_count": 11,
   "id": "cafb334c-f8b4-4e61-b1be-2f85cd116d1f",
   "metadata": {
    "canvas": {
     "comments": [],
     "componentType": "CodeCell",
     "copiedOriginId": null,
     "diskcache": false,
     "headerColor": "inherit",
     "id": "00e75f42-5725-46e5-be53-8da7d7ee8322",
     "isComponent": true,
     "name": "Imports",
     "parents": []
    },
    "tags": []
   },
   "outputs": [],
   "source": [
    "from torchvision import transforms\n",
    "from torchvision.datasets import MNIST"
   ]
  },
  {
   "cell_type": "code",
   "execution_count": 10,
   "id": "783faa3b-27b3-4377-9215-524addab556c",
   "metadata": {
    "canvas": {
     "comments": [],
     "componentType": "CodeCell",
     "copiedOriginId": null,
     "diskcache": false,
     "headerColor": "inherit",
     "id": "513e5f07-f03f-4cee-bad8-c1329e0db8bb",
     "isComponent": true,
     "name": "Loading Data",
     "parents": [
      {
       "id": "00e75f42-5725-46e5-be53-8da7d7ee8322",
       "name": "Imports"
      }
     ]
    },
    "tags": []
   },
   "outputs": [],
   "source": [
    "img_transform = transforms.Compose([transforms.ToTensor(), transforms.Normalize((0.5,), (0.5,))])\n",
    "dataset = MNIST(\"./data\", transform=img_transform, download=True)"
   ]
  },
  {
   "cell_type": "code",
   "execution_count": 13,
   "id": "f98e5401-12b3-4c68-b43f-0f21532c2357",
   "metadata": {
    "canvas": {
     "comments": [],
     "componentType": "CodeCell",
     "copiedOriginId": null,
     "diskcache": false,
     "headerColor": "inherit",
     "id": "4943d99a-86fe-457e-923f-8b421f2e60f6",
     "isComponent": true,
     "name": "Create DataLoader",
     "parents": [
      {
       "id": "513e5f07-f03f-4cee-bad8-c1329e0db8bb",
       "name": "Loading Data"
      }
     ]
    },
    "tags": []
   },
   "outputs": [],
   "source": [
    "from torch.utils.data import DataLoader\n",
    "\n",
    "batch_size = 100\n",
    "dataloader = DataLoader(dataset, batch_size=batch_size, shuffle=True)"
   ]
  },
  {
   "cell_type": "code",
   "execution_count": 14,
   "id": "320d0d06-fe74-43b5-b511-bad0c657c624",
   "metadata": {
    "canvas": {
     "comments": [],
     "componentType": "CodeCell",
     "copiedOriginId": null,
     "diskcache": false,
     "headerColor": "inherit",
     "id": "f6b4c51c-5d93-4baf-a779-cbdd94c69439",
     "isComponent": true,
     "name": "Initialize Model",
     "parents": [
      {
       "id": "4943d99a-86fe-457e-923f-8b421f2e60f6",
       "name": "Create DataLoader"
      }
     ]
    },
    "tags": []
   },
   "outputs": [],
   "source": [
    "from torch import nn\n",
    "\n",
    "class Autoencoder(nn.Module):\n",
    "    def __init__(self, hidden_dim=30):\n",
    "        super().__init__()\n",
    "        self.encoder = nn.Sequential(\n",
    "            nn.Linear(28 * 28, hidden_dim),\n",
    "            nn.Tanh(),\n",
    "        )\n",
    "        self.decoder = nn.Sequential(\n",
    "            nn.Linear(hidden_dim, 28 * 28),\n",
    "            nn.Tanh(),\n",
    "        )\n",
    "\n",
    "    def forward(self, x):\n",
    "        x = self.encoder(x)\n",
    "        x = self.decoder(x)\n",
    "        return x"
   ]
  },
  {
   "cell_type": "code",
   "execution_count": null,
   "id": "0364f867-65fe-4534-89bd-4a534318550f",
   "metadata": {
    "canvas": {
     "comments": [],
     "componentType": "CodeCell",
     "copiedOriginId": null,
     "diskcache": false,
     "headerColor": "inherit",
     "id": "e03719de-59c2-4aa5-ab8b-e3c27f6d0777",
     "isComponent": false,
     "name": "",
     "parents": []
    }
   },
   "outputs": [],
   "source": []
  }
 ],
 "metadata": {
  "canvas": {
   "colorPalette": [
    "inherit",
    "inherit",
    "inherit",
    "inherit",
    "inherit",
    "inherit",
    "inherit",
    "inherit",
    "inherit",
    "inherit"
   ],
   "parameters": []
  },
  "kernelspec": {
   "display_name": "Python 3 (ipykernel)",
   "language": "python",
   "name": "python3"
  },
  "language_info": {
   "codemirror_mode": {
    "name": "ipython",
    "version": 3
   },
   "file_extension": ".py",
   "mimetype": "text/x-python",
   "name": "python",
   "nbconvert_exporter": "python",
   "pygments_lexer": "ipython3",
   "version": "3.10.4"
  }
 },
 "nbformat": 4,
 "nbformat_minor": 5
}
